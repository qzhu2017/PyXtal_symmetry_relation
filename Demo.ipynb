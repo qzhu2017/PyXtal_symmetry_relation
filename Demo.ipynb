{
 "cells": [
  {
   "cell_type": "code",
   "execution_count": 1,
   "metadata": {},
   "outputs": [],
   "source": [
    "# Make sure that you have pyxtal installed\n",
    "#!pip install pyxtal"
   ]
  },
  {
   "cell_type": "markdown",
   "metadata": {},
   "source": [
    "# 1. Maximum subgroups\n",
    "\n",
    "Relations between crystal structures can often be expressed by group–subgroup relations. A subgroup $H$ of a space group $G$ is called a maximal subgroup of $G$ if there is no proper subgroup $M$ in between, i.e., $G \\rightarrow M \\rightarrow H$. There exist two kinds of $H$ subgroups. \n",
    "\n",
    "- `Translationengleiche` ($t$) subgroups keeps all translational symmetries but belong to a lower crystal class, \n",
    "\n",
    "- `Klassengleiche` ($k$) subgroups have fewer translations but are of the same crystal class. \n",
    "\n",
    "For a given space group, its maximal $t$ and $k$ subgroups are well defined and can be found in the crystallography book or the [online server](https://www.cryst.ehu.es/cryst/maxsub.html). \n",
    "\n",
    "To complete the transition between a group $G$ and its maximal subgroup $H$, one needs to know the cell transformation matrix, as well as the Wyckoff position (WP) splitting scheme for the given atomic positions.\n",
    "\n",
    "For a give space group, the `pyxtal.symmetry.Group` class has the several methods to access these immediate symmetry relation programmically.\n",
    "\n",
    "- `get_max_k_subgroup()`: get the dictionary of all maxmimum k subgroup information\n",
    "- `get_max_t_subgroup()`: get the dictionary of all maxmimum t subgroup information\n",
    "- `get_max_subgroup_numbers()`: get the dictionary of all maxmimum t and k subgroup numbers\n",
    "\n",
    "For the returned dictionary, it has four key lists of items:\n",
    "- `index`: the index of each relation \n",
    "- `transformation`: the lattice transformation matrix from G to H\n",
    "- `relations`: the detailed wyckoff sites between G and H\n",
    "- `subgroup`: a list of subgroup H numbers\n",
    "\n",
    "Each list in the dictionary has the same length, which correspond to the number of concrete ways to transform G to its subgroup set {H}. Note that it is possble that a G can be split to the same H number in different ways (e.g., different lattice transformation and Wyckoff splitting scheme)."
   ]
  },
  {
   "cell_type": "code",
   "execution_count": 2,
   "metadata": {},
   "outputs": [
    {
     "name": "stdout",
     "output_type": "stream",
     "text": [
      "\n",
      "Explain the subgroup dictionary\n",
      "k_subgroup 117\n",
      "[14, 14, 14, 14, 14, 14, 14, 14, 14, 14, 14, 14, 14, 14, 14, 14, 14, 14, 14, 14, 14, 14, 14, 14, 14, 14, 14, 14, 14, 14, 14, 14, 14, 14, 14, 14, 14, 14, 14, 14, 14, 14, 14, 14, 14, 14, 14, 14, 14, 14, 14, 14, 14, 14, 14, 14, 14, 14, 14, 14, 14, 14, 14, 14, 14, 14, 14, 14, 14, 14, 14, 14, 14, 14, 14, 14, 14, 14, 14, 14, 14, 14, 14, 14, 14, 14, 14, 14, 14, 14, 14, 14, 14, 14, 14, 14, 14, 14, 14, 14, 14, 14, 14, 14, 14, 14, 14, 14, 14, 14, 14, 14, 14, 14, 14, 14, 14]\n",
      "t_subgroup 3\n",
      "[2, 4, 7]\n",
      "\n",
      "Explain the difference of splitting\n",
      "14 [['4e'], ['2a', '2b'], ['4e'], ['2d', '2c'], ['4e', '4e']]\n",
      "14 [['2a', '2b'], ['4e'], ['2d', '2c'], ['4e'], ['4e', '4e']]\n",
      "Same H corresponds to different Wyckoff splitting\n"
     ]
    }
   ],
   "source": [
    "# Below is a code to explain the pyxtal.symmetry.Group functionality\n",
    "\n",
    "from pyxtal.symmetry import Group\n",
    "\n",
    "g = Group(14)\n",
    "dicts_max_k = g.get_max_k_subgroup()\n",
    "dicts_max_t = g.get_max_t_subgroup()\n",
    "print('\\nExplain the subgroup dictionary')\n",
    "print('k_subgroup', len(dicts_max_k['subgroup']))\n",
    "print(dicts_max_k['subgroup'])\n",
    "print('t_subgroup', len(dicts_max_t['subgroup']))\n",
    "print(dicts_max_t['subgroup'])\n",
    "\n",
    "print(\"\\nExplain the difference of splitting\")\n",
    "print(dicts_max_k['subgroup'][0], dicts_max_k['relations'][0])\n",
    "print(dicts_max_k['subgroup'][1], dicts_max_k['relations'][1])\n",
    "print(\"Same H corresponds to different Wyckoff splitting\")"
   ]
  },
  {
   "cell_type": "markdown",
   "metadata": {},
   "source": [
    "# 2. Detailed information for each G-H relation \n",
    "\n",
    "The above function gives the entire information about its possibble subgroup information when G is known. However, you may be interested in the detain about a specific G-H relation. To access it, the `pyxtal.wyckoff_split.wyckoff_split` class will be useful."
   ]
  },
  {
   "cell_type": "code",
   "execution_count": 18,
   "metadata": {
    "scrolled": false
   },
   "outputs": [
    {
     "name": "stdout",
     "output_type": "stream",
     "text": [
      "Wycokff split from 14 to 4\n",
      "\n",
      "2c -> 2a\n",
      "0, 0, -1/2                     -> 0, 0, -3/4                     -> x, y, z                       \n",
      "0, 1/2, 0                      -> 0, 1/2, -1/4                   -> -x, y+1/2, -z                 \n",
      "\n",
      "4e -> 2a\n",
      "x, y, z                        -> x, y, z-1/4                    -> x, y, z                       \n",
      "-x, y+1/2, -z-1/2              -> -x, y+1/2, -z-3/4              -> -x, y+1/2, -z                 \n",
      "2a\n",
      "-x, -y, -z                     -> -x, -y, -z-1/4                 -> x, y, z                       \n",
      "x, -y+1/2, z-1/2               -> x, -y+1/2, z-3/4               -> -x, y+1/2, -z                 \n",
      "\n",
      "Transformation matrix\n",
      " [[1.   0.   0.   0.  ]\n",
      " [0.   1.   0.   0.  ]\n",
      " [0.   0.   1.   0.25]\n",
      " [0.   0.   0.   1.  ]]\n"
     ]
    }
   ],
   "source": [
    "from pyxtal.wyckoff_split import wyckoff_split\n",
    "sp = wyckoff_split(G=14, idx=1, wp1=['2c', '4e'], group_type='t')\n",
    "print(sp)\n",
    "print(\"Transformation matrix\\n\", sp.R)"
   ]
  },
  {
   "cell_type": "markdown",
   "metadata": {},
   "source": [
    "# 3. Group-Subgroup Transition: Derive a subgroup symmetry\n",
    "\n",
    "Knowing a structure in $G$ symmetry, it is straightforward to generate its subgroup representation. This function can be accessed by `pyxtal.subgroup_once` function."
   ]
  },
  {
   "cell_type": "code",
   "execution_count": 4,
   "metadata": {},
   "outputs": [
    {
     "name": "stdout",
     "output_type": "stream",
     "text": [
      "\n",
      "------Crystal from Build------\n",
      "Dimension: 3\n",
      "Composition: Na4Cl4\n",
      "Group: F m -3 m (225)\n",
      "  5.6200,   5.6200,   5.6200,  90.0000,  90.0000,  90.0000, Cubic\n",
      "Wyckoff sites:\n",
      "\tNa @ [ 0.0000  0.0000  0.0000], WP [4a] Site [4/m-32/m]\n",
      "\tCl @ [ 0.5000  0.5000  0.5000], WP [4b] Site [4/m-3-32/m2/m]\n",
      "\n",
      "------Crystal from subgroup------\n",
      "Dimension: 3\n",
      "Composition: Na4Cl4\n",
      "Group: F 4 3 2 (209)\n",
      "  5.6200,   5.6200,   5.6200,  90.0000,  90.0000,  90.0000, cubic\n",
      "Wyckoff sites:\n",
      "\tNa @ [ 0.0000  0.0000  0.0000], WP [4a] Site [432]\n",
      "\tCl @ [ 0.5000  0.5000  0.5000], WP [4b] Site [43322]\n"
     ]
    }
   ],
   "source": [
    "from pyxtal import pyxtal\n",
    "from pyxtal.lattice import Lattice\n",
    "\n",
    "# Create a pyxtal instance\n",
    "c = pyxtal()\n",
    "l = Lattice.from_para(5.62, 5.62, 5.62, 90, 90, 90, ltype='Cubic')\n",
    "\n",
    "#define the sites as dictionary \n",
    "sites = [{\"4a\": None}, # Na \n",
    "         {\"4b\": None}, # Cl\n",
    "        ]\n",
    "c.build(225, ['Na', 'Cl'], [4, 4], lattice=l, sites=sites)\n",
    "\n",
    "print(c)\n",
    "\n",
    "# Make the subgroup representation\n",
    "c1 = c.subgroup_once()\n",
    "print(c1)"
   ]
  },
  {
   "cell_type": "markdown",
   "metadata": {},
   "source": [
    "# 4. Group-Subgruop Transition: Map the transition path\n",
    "\n",
    "Sometimes, we know a structure can undergo phase tansition at high temperature. But we don't know how they are related. To find the transition path, we can utilize the available subgroup information. Namely, we search for all possible paths that satisfy the following conditions.\n",
    "\n",
    "- the Wyckoff sites in G and H are compatible\n",
    "- the lattice distortion is small\n",
    "- the atomic distortion is small\n",
    "\n",
    "Note that it is not trival to find the right path for many real life examples as each of the above criteria involves somewhat iterative search and optimization processes (for more details, please take a look at ). \n",
    "Fortunately, it can be handled by PyXtal now. Below we will explain the map function by several examples."
   ]
  },
  {
   "cell_type": "code",
   "execution_count": 5,
   "metadata": {},
   "outputs": [],
   "source": [
    "# Below we define some common libraries and paths\n",
    "from pkg_resources import resource_filename\n",
    "from pyxtal.viz import display_crystals\n",
    "import numpy as np\n",
    "\n",
    "cif_path = resource_filename(\"pyxtal\", \"database/cifs/\")"
   ]
  },
  {
   "cell_type": "code",
   "execution_count": 6,
   "metadata": {},
   "outputs": [
    {
     "name": "stdout",
     "output_type": "stream",
     "text": [
      "Transition path: [180, 154]\n",
      "Maximum disp: 0.3126802096152832\n"
     ]
    },
    {
     "data": {
      "application/vnd.jupyter.widget-view+json": {
       "model_id": "a94f611792294e32b92ca29d573d608d",
       "version_major": 2,
       "version_minor": 0
      },
      "text/plain": [
       "interactive(children=(IntSlider(value=0, description='id:', max=4), Output()), _dom_classes=('widget-interact'…"
      ]
     },
     "metadata": {},
     "output_type": "display_data"
    }
   ],
   "source": [
    "# Transition between high-T and low-T quartz\n",
    "# This simply follows the immediate group relation 180->154\n",
    "# because 154 belongs to 180's t-subgroup\n",
    "\n",
    "s1 = pyxtal(); s1.from_seed(cif_path+'lt_quartz.cif')\n",
    "s2 = pyxtal(); s2.from_seed(cif_path+'ht_quartz.cif')\n",
    "\n",
    "strucs, disps, _, path = s2.get_transition(s1, N_images=5)\n",
    "max_disp = np.linalg.norm(disps.dot(s1.lattice.matrix), axis=1).max()\n",
    "print(\"Transition path:\", path)\n",
    "print(\"Maximum disp:\", max_disp)\n",
    "view = display_crystals(strucs, labels=[0, max_disp])"
   ]
  },
  {
   "cell_type": "code",
   "execution_count": 7,
   "metadata": {},
   "outputs": [
    {
     "name": "stdout",
     "output_type": "stream",
     "text": [
      "Transition path: [227, 141, 98, 92]\n",
      "Maximum disp: 0.5948089828432885\n"
     ]
    },
    {
     "data": {
      "application/vnd.jupyter.widget-view+json": {
       "model_id": "40b99a4d9c59462b917f0feefa0c2526",
       "version_major": 2,
       "version_minor": 0
      },
      "text/plain": [
       "interactive(children=(IntSlider(value=0, description='id:', max=4), Output()), _dom_classes=('widget-interact'…"
      ]
     },
     "metadata": {},
     "output_type": "display_data"
    }
   ],
   "source": [
    "# Transition between high-T and low-T cristobalite\n",
    "# This example follows a more complicated path\n",
    "# 1, 227 -> 141, a t_subgroup splitting\n",
    "# 2, 141 -> 98, a t_subgroup splitting\n",
    "# 3, 98 -> 92, a k_subgroup splitting\n",
    "\n",
    "s1 = pyxtal(); s1.from_seed(cif_path+'lt_cristobalite.cif')\n",
    "s2 = pyxtal(); s2.from_seed(cif_path+'ht_cristobalite.cif')\n",
    "\n",
    "strucs, disps, _, path = s2.get_transition(s1, N_images=5)\n",
    "max_disp = np.linalg.norm(disps.dot(s1.lattice.matrix), axis=1).max()\n",
    "print(\"Transition path:\", path)\n",
    "print(\"Maximum disp:\", max_disp)\n",
    "view = display_crystals(strucs, labels=[0, max_disp])"
   ]
  },
  {
   "cell_type": "code",
   "execution_count": 17,
   "metadata": {},
   "outputs": [
    {
     "name": "stdout",
     "output_type": "stream",
     "text": [
      "Transition path: [189, 38, 25, 26]\n",
      "Maximum disp: 0.17302945634755149\n"
     ]
    }
   ],
   "source": [
    "# This example follows a more complicated path.\n",
    "# In the first round, only the path of 189->38->26 is checked without success. \n",
    "# The true path (189->38->25->26) can be found by adding the additional k-subgroup 25.\n",
    "# PyXtal will automatically add more intermediate k-groups into the path when it cannot\n",
    "# find a valid solution.\n",
    "\n",
    "s1 = pyxtal(); s1.from_seed(cif_path+'lt_KNbBO.cif')\n",
    "s2 = pyxtal(); s2.from_seed(cif_path+'ht_KNbBO.cif')\n",
    "\n",
    "strucs, disps, _, path = s2.get_transition(s1, N_images=5)\n",
    "max_disp = np.linalg.norm(disps.dot(s1.lattice.matrix), axis=1).max()\n",
    "print(\"Transition path:\", path)\n",
    "print(\"Maximum disp:\", max_disp)"
   ]
  },
  {
   "cell_type": "markdown",
   "metadata": {},
   "source": [
    "# 5. Group-Supergroup Transition: Derive a supergroup symmetry\n",
    "\n",
    "Sometimes, we are also interested in deriving a possible high symmetry representation from a given structure. This is basically an inverse search problem. At the moment, we are developing the robust tool to enable this function. Below gives the most recent example."
   ]
  },
  {
   "cell_type": "code",
   "execution_count": 9,
   "metadata": {
    "scrolled": false
   },
   "outputs": [
    {
     "name": "stdout",
     "output_type": "stream",
     "text": [
      "\n",
      "------Crystal from Seed------\n",
      "Dimension: 3\n",
      "Composition: Si4O8\n",
      "Group: P 41 21 2 (92)\n",
      "  5.0847,   5.0847,   7.0986,  90.0000,  90.0000,  90.0000, tetragonal\n",
      "Wyckoff sites:\n",
      "\tSi @ [ 0.2944  0.2944  0.0000], WP [4a] Site [..2]\n",
      "\t O @ [ 0.0941  0.2410  0.8256], WP [8b] Site [1]\n"
     ]
    }
   ],
   "source": [
    "s1 = pyxtal()\n",
    "s1.from_seed(cif_path+'lt_cristobalite.cif')\n",
    "print(s1)"
   ]
  },
  {
   "cell_type": "code",
   "execution_count": 10,
   "metadata": {},
   "outputs": [
    {
     "name": "stdout",
     "output_type": "stream",
     "text": [
      "4 paths will be checked\n",
      "[\n",
      "------Crystal from Seed------\n",
      "Dimension: 3\n",
      "Composition: Si4O8\n",
      "Group: P 41 21 2 (92)\n",
      "  5.0847,   5.0847,   7.0986,  90.0000,  90.0000,  90.0000, tetragonal\n",
      "Wyckoff sites:\n",
      "\tSi @ [ 0.2944  0.2944  0.0000], WP [4a] Site [..2]\n",
      "\t O @ [ 0.0941  0.2410  0.8256], WP [8b] Site [1], \n",
      "------Crystal from supergroup  0.260------\n",
      "Dimension: 3\n",
      "Composition: Si4O8\n",
      "Group: I 41 2 2 (98)\n",
      "  5.0847,   5.0847,   7.0986,  90.0000,  90.0000,  90.0000, tetragonal\n",
      "Wyckoff sites:\n",
      "\tSi @ [ 0.0000  0.0000  0.0000], WP [4a] Site [2.22]\n",
      "\t O @ [ 0.9657  0.2500  0.1250], WP [8f] Site [.2.], \n",
      "------Crystal from supergroup  0.175------\n",
      "Dimension: 3\n",
      "Composition: Si4O8\n",
      "Group: I 41/a m d:2 (141)\n",
      "  5.0847,   5.0847,   7.0986,  90.0000,  90.0000,  90.0000, tetragonal\n",
      "Wyckoff sites:\n",
      "\tSi @ [ 0.0000  0.2500  0.3750], WP [4b] Site [-4mm2]\n",
      "\t O @ [ 0.0000  0.0000  0.5000], WP [8d] Site [.2/m.], \n",
      "------Crystal from supergroup  0.000------\n",
      "Dimension: 3\n",
      "Composition: Si8O16\n",
      "Group: F d -3 m:2 (227)\n",
      "  7.1601,   7.1601,   7.1601,  90.0000,  90.0000,  90.0000, cubic\n",
      "Wyckoff sites:\n",
      "\tSi @ [ 0.3750  0.3750  0.3750], WP [8b] Site [-433mm]\n",
      "\t O @ [ 0.5000  0.5000  0.5000], WP [16d] Site [.-32/m]]\n"
     ]
    }
   ],
   "source": [
    "# When the G is given, we can automatically find the structure with G symmetry \n",
    "# within the given tolerance value\n",
    "\n",
    "strucs = s1.supergroups(227, d_tol=0.6)\n",
    "print(strucs)"
   ]
  }
 ],
 "metadata": {
  "@webio": {
   "lastCommId": null,
   "lastKernelId": null
  },
  "kernelspec": {
   "display_name": "Python 3 (ipykernel)",
   "language": "python",
   "name": "python3"
  },
  "language_info": {
   "codemirror_mode": {
    "name": "ipython",
    "version": 3
   },
   "file_extension": ".py",
   "mimetype": "text/x-python",
   "name": "python",
   "nbconvert_exporter": "python",
   "pygments_lexer": "ipython3",
   "version": "3.7.12"
  }
 },
 "nbformat": 4,
 "nbformat_minor": 4
}
